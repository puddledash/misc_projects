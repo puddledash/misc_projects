{
 "cells": [
  {
   "cell_type": "markdown",
   "metadata": {},
   "source": [
    "# 911 Calls in Montgomery County, PA\n",
    "\n",
    "This short project goes through simple analysis of the reported 911 calls located in Montgomery County, PA. The data is provided by [montcoalert.org](montcoalert.org) and was compiled here on [Kaggle](https://www.kaggle.com/mchirico/montcoalert) by a user named Mike Chirico. It is updated every so often. This notebook uses Version 50."
   ]
  },
  {
   "cell_type": "code",
   "execution_count": 1,
   "metadata": {},
   "outputs": [],
   "source": [
    "# first step is to import the necessary libraries for analysis.\n",
    "import numpy as np\n",
    "import pandas as pd\n",
    "import matplotlib.pyplot as plt\n",
    "import seaborn as sns\n",
    "%matplotlib inline"
   ]
  },
  {
   "cell_type": "code",
   "execution_count": 2,
   "metadata": {},
   "outputs": [],
   "source": [
    "# as our data is a csv file, we use the Pandas .read_csv function to assign it to the variable df as a DataFrame.\n",
    "df = pd.read_csv('data/911-Update.csv')"
   ]
  },
  {
   "cell_type": "markdown",
   "metadata": {},
   "source": [
    "The next couple lines of code is to briefly get an overview of the data-set as is without making adjustments."
   ]
  },
  {
   "cell_type": "code",
   "execution_count": 3,
   "metadata": {},
   "outputs": [
    {
     "name": "stdout",
     "output_type": "stream",
     "text": [
      "<class 'pandas.core.frame.DataFrame'>\n",
      "RangeIndex: 423909 entries, 0 to 423908\n",
      "Data columns (total 9 columns):\n",
      "lat          423909 non-null float64\n",
      "lng          423909 non-null float64\n",
      "desc         423909 non-null object\n",
      "zip          371780 non-null float64\n",
      "title        423909 non-null object\n",
      "timeStamp    423909 non-null object\n",
      "twp          423750 non-null object\n",
      "addr         423909 non-null object\n",
      "e            423909 non-null int64\n",
      "dtypes: float64(3), int64(1), object(5)\n",
      "memory usage: 29.1+ MB\n"
     ]
    }
   ],
   "source": [
    "# this function allows us to see the column names, amount of entries per column, and types of data in each column.\n",
    "df.info()"
   ]
  },
  {
   "cell_type": "code",
   "execution_count": 4,
   "metadata": {},
   "outputs": [
    {
     "data": {
      "text/html": [
       "<div>\n",
       "<style scoped>\n",
       "    .dataframe tbody tr th:only-of-type {\n",
       "        vertical-align: middle;\n",
       "    }\n",
       "\n",
       "    .dataframe tbody tr th {\n",
       "        vertical-align: top;\n",
       "    }\n",
       "\n",
       "    .dataframe thead th {\n",
       "        text-align: right;\n",
       "    }\n",
       "</style>\n",
       "<table border=\"1\" class=\"dataframe\">\n",
       "  <thead>\n",
       "    <tr style=\"text-align: right;\">\n",
       "      <th></th>\n",
       "      <th>lat</th>\n",
       "      <th>lng</th>\n",
       "      <th>zip</th>\n",
       "      <th>e</th>\n",
       "    </tr>\n",
       "  </thead>\n",
       "  <tbody>\n",
       "    <tr>\n",
       "      <th>count</th>\n",
       "      <td>423909.000000</td>\n",
       "      <td>423909.000000</td>\n",
       "      <td>371780.000000</td>\n",
       "      <td>423909.0</td>\n",
       "    </tr>\n",
       "    <tr>\n",
       "      <th>mean</th>\n",
       "      <td>40.158618</td>\n",
       "      <td>-75.314022</td>\n",
       "      <td>19234.732269</td>\n",
       "      <td>1.0</td>\n",
       "    </tr>\n",
       "    <tr>\n",
       "      <th>std</th>\n",
       "      <td>0.129170</td>\n",
       "      <td>0.656048</td>\n",
       "      <td>301.388898</td>\n",
       "      <td>0.0</td>\n",
       "    </tr>\n",
       "    <tr>\n",
       "      <th>min</th>\n",
       "      <td>0.000000</td>\n",
       "      <td>-119.698206</td>\n",
       "      <td>3366.000000</td>\n",
       "      <td>1.0</td>\n",
       "    </tr>\n",
       "    <tr>\n",
       "      <th>25%</th>\n",
       "      <td>40.099784</td>\n",
       "      <td>-75.391547</td>\n",
       "      <td>19038.000000</td>\n",
       "      <td>1.0</td>\n",
       "    </tr>\n",
       "    <tr>\n",
       "      <th>50%</th>\n",
       "      <td>40.143900</td>\n",
       "      <td>-75.304563</td>\n",
       "      <td>19401.000000</td>\n",
       "      <td>1.0</td>\n",
       "    </tr>\n",
       "    <tr>\n",
       "      <th>75%</th>\n",
       "      <td>40.229008</td>\n",
       "      <td>-75.210760</td>\n",
       "      <td>19446.000000</td>\n",
       "      <td>1.0</td>\n",
       "    </tr>\n",
       "    <tr>\n",
       "      <th>max</th>\n",
       "      <td>51.335390</td>\n",
       "      <td>87.854975</td>\n",
       "      <td>77316.000000</td>\n",
       "      <td>1.0</td>\n",
       "    </tr>\n",
       "  </tbody>\n",
       "</table>\n",
       "</div>"
      ],
      "text/plain": [
       "                 lat            lng            zip         e\n",
       "count  423909.000000  423909.000000  371780.000000  423909.0\n",
       "mean       40.158618     -75.314022   19234.732269       1.0\n",
       "std         0.129170       0.656048     301.388898       0.0\n",
       "min         0.000000    -119.698206    3366.000000       1.0\n",
       "25%        40.099784     -75.391547   19038.000000       1.0\n",
       "50%        40.143900     -75.304563   19401.000000       1.0\n",
       "75%        40.229008     -75.210760   19446.000000       1.0\n",
       "max        51.335390      87.854975   77316.000000       1.0"
      ]
     },
     "execution_count": 4,
     "metadata": {},
     "output_type": "execute_result"
    }
   ],
   "source": [
    "# this function provides a quick overview of the numerical columns in regards to mean, standard deviation,\n",
    "# and specific values such as min and max.\n",
    "# judging by the column names, nothing of useful was immediately gained as latitude, longitude, zipcode, and Hour/Month were not\n",
    "# typical numerical values such as price, test scores, etc.\n",
    "df.describe()"
   ]
  },
  {
   "cell_type": "code",
   "execution_count": 5,
   "metadata": {},
   "outputs": [
    {
     "data": {
      "text/html": [
       "<div>\n",
       "<style scoped>\n",
       "    .dataframe tbody tr th:only-of-type {\n",
       "        vertical-align: middle;\n",
       "    }\n",
       "\n",
       "    .dataframe tbody tr th {\n",
       "        vertical-align: top;\n",
       "    }\n",
       "\n",
       "    .dataframe thead th {\n",
       "        text-align: right;\n",
       "    }\n",
       "</style>\n",
       "<table border=\"1\" class=\"dataframe\">\n",
       "  <thead>\n",
       "    <tr style=\"text-align: right;\">\n",
       "      <th></th>\n",
       "      <th>lat</th>\n",
       "      <th>lng</th>\n",
       "      <th>desc</th>\n",
       "      <th>zip</th>\n",
       "      <th>title</th>\n",
       "      <th>timeStamp</th>\n",
       "      <th>twp</th>\n",
       "      <th>addr</th>\n",
       "      <th>e</th>\n",
       "    </tr>\n",
       "  </thead>\n",
       "  <tbody>\n",
       "    <tr>\n",
       "      <th>0</th>\n",
       "      <td>40.297876</td>\n",
       "      <td>-75.581294</td>\n",
       "      <td>REINDEER CT &amp; DEAD END;  NEW HANOVER; Station ...</td>\n",
       "      <td>19525.0</td>\n",
       "      <td>EMS: BACK PAINS/INJURY</td>\n",
       "      <td>2015-12-10 17:10:52</td>\n",
       "      <td>NEW HANOVER</td>\n",
       "      <td>REINDEER CT &amp; DEAD END</td>\n",
       "      <td>1</td>\n",
       "    </tr>\n",
       "    <tr>\n",
       "      <th>1</th>\n",
       "      <td>40.258061</td>\n",
       "      <td>-75.264680</td>\n",
       "      <td>BRIAR PATH &amp; WHITEMARSH LN;  HATFIELD TOWNSHIP...</td>\n",
       "      <td>19446.0</td>\n",
       "      <td>EMS: DIABETIC EMERGENCY</td>\n",
       "      <td>2015-12-10 17:29:21</td>\n",
       "      <td>HATFIELD TOWNSHIP</td>\n",
       "      <td>BRIAR PATH &amp; WHITEMARSH LN</td>\n",
       "      <td>1</td>\n",
       "    </tr>\n",
       "    <tr>\n",
       "      <th>2</th>\n",
       "      <td>40.121182</td>\n",
       "      <td>-75.351975</td>\n",
       "      <td>HAWS AVE; NORRISTOWN; 2015-12-10 @ 14:39:21-St...</td>\n",
       "      <td>19401.0</td>\n",
       "      <td>Fire: GAS-ODOR/LEAK</td>\n",
       "      <td>2015-12-10 14:39:21</td>\n",
       "      <td>NORRISTOWN</td>\n",
       "      <td>HAWS AVE</td>\n",
       "      <td>1</td>\n",
       "    </tr>\n",
       "    <tr>\n",
       "      <th>3</th>\n",
       "      <td>40.116153</td>\n",
       "      <td>-75.343513</td>\n",
       "      <td>AIRY ST &amp; SWEDE ST;  NORRISTOWN; Station 308A;...</td>\n",
       "      <td>19401.0</td>\n",
       "      <td>EMS: CARDIAC EMERGENCY</td>\n",
       "      <td>2015-12-10 16:47:36</td>\n",
       "      <td>NORRISTOWN</td>\n",
       "      <td>AIRY ST &amp; SWEDE ST</td>\n",
       "      <td>1</td>\n",
       "    </tr>\n",
       "    <tr>\n",
       "      <th>4</th>\n",
       "      <td>40.251492</td>\n",
       "      <td>-75.603350</td>\n",
       "      <td>CHERRYWOOD CT &amp; DEAD END;  LOWER POTTSGROVE; S...</td>\n",
       "      <td>NaN</td>\n",
       "      <td>EMS: DIZZINESS</td>\n",
       "      <td>2015-12-10 16:56:52</td>\n",
       "      <td>LOWER POTTSGROVE</td>\n",
       "      <td>CHERRYWOOD CT &amp; DEAD END</td>\n",
       "      <td>1</td>\n",
       "    </tr>\n",
       "  </tbody>\n",
       "</table>\n",
       "</div>"
      ],
      "text/plain": [
       "         lat        lng                                               desc  \\\n",
       "0  40.297876 -75.581294  REINDEER CT & DEAD END;  NEW HANOVER; Station ...   \n",
       "1  40.258061 -75.264680  BRIAR PATH & WHITEMARSH LN;  HATFIELD TOWNSHIP...   \n",
       "2  40.121182 -75.351975  HAWS AVE; NORRISTOWN; 2015-12-10 @ 14:39:21-St...   \n",
       "3  40.116153 -75.343513  AIRY ST & SWEDE ST;  NORRISTOWN; Station 308A;...   \n",
       "4  40.251492 -75.603350  CHERRYWOOD CT & DEAD END;  LOWER POTTSGROVE; S...   \n",
       "\n",
       "       zip                    title            timeStamp                twp  \\\n",
       "0  19525.0   EMS: BACK PAINS/INJURY  2015-12-10 17:10:52        NEW HANOVER   \n",
       "1  19446.0  EMS: DIABETIC EMERGENCY  2015-12-10 17:29:21  HATFIELD TOWNSHIP   \n",
       "2  19401.0      Fire: GAS-ODOR/LEAK  2015-12-10 14:39:21         NORRISTOWN   \n",
       "3  19401.0   EMS: CARDIAC EMERGENCY  2015-12-10 16:47:36         NORRISTOWN   \n",
       "4      NaN           EMS: DIZZINESS  2015-12-10 16:56:52   LOWER POTTSGROVE   \n",
       "\n",
       "                         addr  e  \n",
       "0      REINDEER CT & DEAD END  1  \n",
       "1  BRIAR PATH & WHITEMARSH LN  1  \n",
       "2                    HAWS AVE  1  \n",
       "3          AIRY ST & SWEDE ST  1  \n",
       "4    CHERRYWOOD CT & DEAD END  1  "
      ]
     },
     "execution_count": 5,
     "metadata": {},
     "output_type": "execute_result"
    }
   ],
   "source": [
    "# the .head function allows us to see the first few rows of the DataFrame to get a feel of what is included at a glance\n",
    "df.head()"
   ]
  },
  {
   "cell_type": "code",
   "execution_count": 6,
   "metadata": {},
   "outputs": [
    {
     "data": {
      "text/plain": [
       "19401.0    28656\n",
       "19464.0    27948\n",
       "19403.0    21631\n",
       "19446.0    20496\n",
       "19406.0    14097\n",
       "Name: zip, dtype: int64"
      ]
     },
     "execution_count": 6,
     "metadata": {},
     "output_type": "execute_result"
    }
   ],
   "source": [
    "# we group the data by zipcode to see how many 911 calls are per zip code. the .head function again lets us see the first few.\n",
    "df['zip'].value_counts().head()"
   ]
  },
  {
   "cell_type": "code",
   "execution_count": 7,
   "metadata": {},
   "outputs": [
    {
     "data": {
      "text/plain": [
       "LOWER MERION    36441\n",
       "ABINGTON        25835\n",
       "NORRISTOWN      23883\n",
       "UPPER MERION    22694\n",
       "CHELTENHAM      19629\n",
       "Name: twp, dtype: int64"
      ]
     },
     "execution_count": 7,
     "metadata": {},
     "output_type": "execute_result"
    }
   ],
   "source": [
    "# we do the samething to towns\n",
    "df['twp'].value_counts().head()"
   ]
  },
  {
   "cell_type": "code",
   "execution_count": 8,
   "metadata": {},
   "outputs": [
    {
     "data": {
      "text/plain": [
       "141"
      ]
     },
     "execution_count": 8,
     "metadata": {},
     "output_type": "execute_result"
    }
   ],
   "source": [
    "# the title column is interesting because there is a reason followed by specifics. \"reason:specifics\"\n",
    "# we check to see how many unique titles are in the data\n",
    "df['title'].nunique()"
   ]
  },
  {
   "cell_type": "code",
   "execution_count": 9,
   "metadata": {},
   "outputs": [
    {
     "data": {
      "text/plain": [
       "EMS        208676\n",
       "Traffic    151458\n",
       "Fire        63775\n",
       "Name: reason, dtype: int64"
      ]
     },
     "execution_count": 9,
     "metadata": {},
     "output_type": "execute_result"
    }
   ],
   "source": [
    "# because it is a \"reason:specifics\" column, separating the reason from the specifics provides us with additional information.\n",
    "df['reason'] = df['title'].apply(lambda title: title.split(':')[0])\n",
    "df['specifics'] = df['title'].apply(lambda title: title.split(':')[1])\n",
    "\n",
    "# now we can check the amount grouped by the different types of reasons.\n",
    "df['reason'].value_counts()"
   ]
  },
  {
   "cell_type": "code",
   "execution_count": 10,
   "metadata": {},
   "outputs": [
    {
     "data": {
      "text/plain": [
       " VEHICLE ACCIDENT -              98401\n",
       " DISABLED VEHICLE -              31871\n",
       " FIRE ALARM                      24459\n",
       " VEHICLE ACCIDENT                24081\n",
       " FALL VICTIM                     21258\n",
       " RESPIRATORY EMERGENCY           21159\n",
       " CARDIAC EMERGENCY               20620\n",
       " ROAD OBSTRUCTION -              14134\n",
       " SUBJECT IN PAIN                 12004\n",
       " HEAD INJURY                     11105\n",
       " UNKNOWN MEDICAL EMERGENCY        7171\n",
       " SYNCOPAL EPISODE                 7087\n",
       " GENERAL WEAKNESS                 7070\n",
       " SEIZURES                         6946\n",
       " ALTERED MENTAL STATUS            6184\n",
       " FIRE INVESTIGATION               6036\n",
       " MEDICAL ALERT ALARM              6022\n",
       " ABDOMINAL PAINS                  5802\n",
       " UNCONSCIOUS SUBJECT              5374\n",
       " HEMORRHAGING                     5264\n",
       " OVERDOSE                         5242\n",
       " CVA/STROKE                       5234\n",
       " NAUSEA/VOMITING                  4920\n",
       " GAS-ODOR/LEAK                    4468\n",
       " HAZARDOUS ROAD CONDITIONS -      4395\n",
       " CARDIAC ARREST                   3986\n",
       " BUILDING FIRE                    3888\n",
       " DIABETIC EMERGENCY               3737\n",
       " DIZZINESS                        3348\n",
       " BACK PAINS/INJURY                3142\n",
       "                                 ...  \n",
       " SHOOTING                          141\n",
       " DEBRIS/FLUIDS ON HIGHWAY -        139\n",
       " POISONING                         138\n",
       " STABBING                          122\n",
       " PUMP DETAIL                       108\n",
       " TRANSFERRED CALL                   86\n",
       " AMPUTATION                         65\n",
       " HAZARDOUS MATERIALS INCIDENT       64\n",
       " RESCUE - TECHNICAL                 52\n",
       " DROWNING                           24\n",
       " ELECTROCUTION                      22\n",
       " INDUSTRIAL ACCIDENT                21\n",
       " TRAIN CRASH                        18\n",
       " STANDBY FOR ANOTHER CO             14\n",
       " BOMB DEVICE FOUND                   9\n",
       " PLANE CRASH                         9\n",
       " DISABLED VEHICLE                    6\n",
       " POLICE INFORMATION                  4\n",
       " SUSPICIOUS                          4\n",
       " WARRANT SERVICE                     4\n",
       " ACTIVE SHOOTER                      3\n",
       " SUICIDE THREAT                      2\n",
       " BOMB THREAT                         2\n",
       " SUICIDE ATTEMPT                     2\n",
       " PUBLIC SERVICE                      2\n",
       " ARMED SUBJECT                       2\n",
       " HIT + RUN                           1\n",
       " PRISONER IN CUSTODY                 1\n",
       " HAZARDOUS ROAD CONDITIONS           1\n",
       " ANIMAL COMPLAINT                    1\n",
       "Name: specifics, Length: 92, dtype: int64"
      ]
     },
     "execution_count": 10,
     "metadata": {},
     "output_type": "execute_result"
    }
   ],
   "source": [
    "# we also check the different types of specifics. \n",
    "df['specifics'].value_counts()"
   ]
  },
  {
   "cell_type": "code",
   "execution_count": 11,
   "metadata": {},
   "outputs": [
    {
     "data": {
      "text/plain": [
       "<matplotlib.axes._subplots.AxesSubplot at 0x2925438f588>"
      ]
     },
     "execution_count": 11,
     "metadata": {},
     "output_type": "execute_result"
    },
    {
     "data": {
      "image/png": "[encoded data removed]",
      "text/plain": [
       "<Figure size 432x288 with 1 Axes>"
      ]
     },
     "metadata": {},
     "output_type": "display_data"
    }
   ],
   "source": [
    "# the amount of reasons is something we can visually express so we plot it with Seaborn.\n",
    "# the amount of specifics can also be plotted, but as there are 92 unique specifics, we will keep that on hold until we clean it.\n",
    "\n",
    "sns.set_style('whitegrid')\n",
    "sns.countplot(x='reason', data=df, palette=\"pastel\")"
   ]
  },
  {
   "cell_type": "markdown",
   "metadata": {},
   "source": [
    "## Time\n",
    "The next step I took is looking at each reason per time period. In this case, we separate the timeStamp column and create three different columns: hours, months, and days. This allows us to look at each time period separately to see variation throughout."
   ]
  },
  {
   "cell_type": "code",
   "execution_count": 12,
   "metadata": {},
   "outputs": [
    {
     "data": {
      "text/plain": [
       "str"
      ]
     },
     "execution_count": 12,
     "metadata": {},
     "output_type": "execute_result"
    }
   ],
   "source": [
    "# first check the data type\n",
    "type(df['timeStamp'].iloc[0])"
   ]
  },
  {
   "cell_type": "code",
   "execution_count": 13,
   "metadata": {},
   "outputs": [],
   "source": [
    "# next we separate the column into 3 new columns as previously mentioned\n",
    "df['timeStamp'] = pd.to_datetime(df['timeStamp'])\n",
    "df['Hour'] = df['timeStamp'].apply(lambda time: time.hour)\n",
    "df['Month'] = df['timeStamp'].apply(lambda time: time.month)\n",
    "df['Day of Week'] = df['timeStamp'].apply(lambda time: time.dayofweek)"
   ]
  },
  {
   "cell_type": "code",
   "execution_count": 14,
   "metadata": {},
   "outputs": [],
   "source": [
    "# we then map the day to the number generated so the day of the week column shows day names instead of numbers\n",
    "dmap = {0:'Mon',1:'Tue',2:'Wed',3:'Thu',4:'Fri',5:'Sat',6:'Sun'}\n",
    "df['Day of Week'] = df['Day of Week'].map(dmap)"
   ]
  },
  {
   "cell_type": "code",
   "execution_count": 15,
   "metadata": {},
   "outputs": [
    {
     "data": {
      "text/plain": [
       "<matplotlib.legend.Legend at 0x2925f486f60>"
      ]
     },
     "execution_count": 15,
     "metadata": {},
     "output_type": "execute_result"
    },
    {
     "data": {
      "image/png": "[encoded data removed]",
      "text/plain": [
       "<Figure size 432x288 with 1 Axes>"
      ]
     },
     "metadata": {},
     "output_type": "display_data"
    }
   ],
   "source": [
    "# we then plot it using our new day of the week column to see how the three reasons stack up on each day\n",
    "sns.set_style('whitegrid')\n",
    "sns.countplot(x='Day of Week',data=df,hue='reason',palette='pastel')\n",
    "\n",
    "plt.legend(bbox_to_anchor=(1.05, 0.225), loc=2, borderaxespad=0.)"
   ]
  },
  {
   "cell_type": "code",
   "execution_count": 16,
   "metadata": {},
   "outputs": [
    {
     "data": {
      "text/plain": [
       "<matplotlib.legend.Legend at 0x2925f5cc898>"
      ]
     },
     "execution_count": 16,
     "metadata": {},
     "output_type": "execute_result"
    },
    {
     "data": {
      "image/png": "[encoded data removed]",
      "text/plain": [
       "<Figure size 432x288 with 1 Axes>"
      ]
     },
     "metadata": {},
     "output_type": "display_data"
    }
   ],
   "source": [
    "# I wanted to see if there were any large differences throughout the months as well\n",
    "sns.countplot(x='Month',data=df,hue='reason',palette='pastel')\n",
    "\n",
    "plt.legend(bbox_to_anchor=(1.05, 0.225), loc=2, borderaxespad=0.)"
   ]
  },
  {
   "cell_type": "markdown",
   "metadata": {},
   "source": [
    "It looks like what we would expect, both a week and a month have generally the same ranking of reason types!"
   ]
  },
  {
   "cell_type": "code",
   "execution_count": 17,
   "metadata": {},
   "outputs": [
    {
     "data": {
      "text/html": [
       "<div>\n",
       "<style scoped>\n",
       "    .dataframe tbody tr th:only-of-type {\n",
       "        vertical-align: middle;\n",
       "    }\n",
       "\n",
       "    .dataframe tbody tr th {\n",
       "        vertical-align: top;\n",
       "    }\n",
       "\n",
       "    .dataframe thead th {\n",
       "        text-align: right;\n",
       "    }\n",
       "</style>\n",
       "<table border=\"1\" class=\"dataframe\">\n",
       "  <thead>\n",
       "    <tr style=\"text-align: right;\">\n",
       "      <th></th>\n",
       "      <th>lat</th>\n",
       "      <th>lng</th>\n",
       "      <th>desc</th>\n",
       "      <th>zip</th>\n",
       "      <th>title</th>\n",
       "      <th>timeStamp</th>\n",
       "      <th>twp</th>\n",
       "      <th>addr</th>\n",
       "      <th>e</th>\n",
       "      <th>reason</th>\n",
       "      <th>specifics</th>\n",
       "      <th>Hour</th>\n",
       "      <th>Month</th>\n",
       "      <th>Day of Week</th>\n",
       "    </tr>\n",
       "  </thead>\n",
       "  <tbody>\n",
       "    <tr>\n",
       "      <th>93</th>\n",
       "      <td>40.083078</td>\n",
       "      <td>-75.101117</td>\n",
       "      <td>SHELMIRE ST &amp; CEDAR RD; ABINGTON; 2015-12-10 @...</td>\n",
       "      <td>19027.0</td>\n",
       "      <td>Traffic: DISABLED VEHICLE -</td>\n",
       "      <td>2015-12-10 21:47:14</td>\n",
       "      <td>ABINGTON</td>\n",
       "      <td>SHELMIRE ST &amp; CEDAR RD</td>\n",
       "      <td>1</td>\n",
       "      <td>Traffic</td>\n",
       "      <td>DISABLED VEHICLE -</td>\n",
       "      <td>21</td>\n",
       "      <td>12</td>\n",
       "      <td>Thu</td>\n",
       "    </tr>\n",
       "    <tr>\n",
       "      <th>122</th>\n",
       "      <td>40.118594</td>\n",
       "      <td>-75.162653</td>\n",
       "      <td>PENN AVE &amp; GARFIELD AVE;  ABINGTON; Station 38...</td>\n",
       "      <td>19038.0</td>\n",
       "      <td>EMS: DIZZINESS</td>\n",
       "      <td>2015-12-11 02:10:29</td>\n",
       "      <td>ABINGTON</td>\n",
       "      <td>PENN AVE &amp; GARFIELD AVE</td>\n",
       "      <td>1</td>\n",
       "      <td>EMS</td>\n",
       "      <td>DIZZINESS</td>\n",
       "      <td>2</td>\n",
       "      <td>12</td>\n",
       "      <td>Fri</td>\n",
       "    </tr>\n",
       "    <tr>\n",
       "      <th>126</th>\n",
       "      <td>40.107400</td>\n",
       "      <td>-75.113206</td>\n",
       "      <td>THE FAIRWAY  &amp; RYDAL RD;  ABINGTON; Station 38...</td>\n",
       "      <td>19046.0</td>\n",
       "      <td>EMS: RESPIRATORY EMERGENCY</td>\n",
       "      <td>2015-12-11 03:09:08</td>\n",
       "      <td>ABINGTON</td>\n",
       "      <td>THE FAIRWAY  &amp; RYDAL RD</td>\n",
       "      <td>1</td>\n",
       "      <td>EMS</td>\n",
       "      <td>RESPIRATORY EMERGENCY</td>\n",
       "      <td>3</td>\n",
       "      <td>12</td>\n",
       "      <td>Fri</td>\n",
       "    </tr>\n",
       "    <tr>\n",
       "      <th>162</th>\n",
       "      <td>40.107400</td>\n",
       "      <td>-75.113206</td>\n",
       "      <td>THE FAIRWAY  &amp; RYDAL RD;  ABINGTON; Station 38...</td>\n",
       "      <td>19046.0</td>\n",
       "      <td>EMS: HEMORRHAGING</td>\n",
       "      <td>2015-12-11 07:31:07</td>\n",
       "      <td>ABINGTON</td>\n",
       "      <td>THE FAIRWAY  &amp; RYDAL RD</td>\n",
       "      <td>1</td>\n",
       "      <td>EMS</td>\n",
       "      <td>HEMORRHAGING</td>\n",
       "      <td>7</td>\n",
       "      <td>12</td>\n",
       "      <td>Fri</td>\n",
       "    </tr>\n",
       "    <tr>\n",
       "      <th>167</th>\n",
       "      <td>40.121176</td>\n",
       "      <td>-75.133361</td>\n",
       "      <td>SUSQUEHANNA RD &amp; EASTON RD; ABINGTON; 2015-12-...</td>\n",
       "      <td>19001.0</td>\n",
       "      <td>Traffic: VEHICLE ACCIDENT -</td>\n",
       "      <td>2015-12-11 08:04:24</td>\n",
       "      <td>ABINGTON</td>\n",
       "      <td>SUSQUEHANNA RD &amp; EASTON RD</td>\n",
       "      <td>1</td>\n",
       "      <td>Traffic</td>\n",
       "      <td>VEHICLE ACCIDENT -</td>\n",
       "      <td>8</td>\n",
       "      <td>12</td>\n",
       "      <td>Fri</td>\n",
       "    </tr>\n",
       "  </tbody>\n",
       "</table>\n",
       "</div>"
      ],
      "text/plain": [
       "           lat        lng                                               desc  \\\n",
       "93   40.083078 -75.101117  SHELMIRE ST & CEDAR RD; ABINGTON; 2015-12-10 @...   \n",
       "122  40.118594 -75.162653  PENN AVE & GARFIELD AVE;  ABINGTON; Station 38...   \n",
       "126  40.107400 -75.113206  THE FAIRWAY  & RYDAL RD;  ABINGTON; Station 38...   \n",
       "162  40.107400 -75.113206  THE FAIRWAY  & RYDAL RD;  ABINGTON; Station 38...   \n",
       "167  40.121176 -75.133361  SUSQUEHANNA RD & EASTON RD; ABINGTON; 2015-12-...   \n",
       "\n",
       "         zip                        title           timeStamp       twp  \\\n",
       "93   19027.0  Traffic: DISABLED VEHICLE - 2015-12-10 21:47:14  ABINGTON   \n",
       "122  19038.0               EMS: DIZZINESS 2015-12-11 02:10:29  ABINGTON   \n",
       "126  19046.0   EMS: RESPIRATORY EMERGENCY 2015-12-11 03:09:08  ABINGTON   \n",
       "162  19046.0            EMS: HEMORRHAGING 2015-12-11 07:31:07  ABINGTON   \n",
       "167  19001.0  Traffic: VEHICLE ACCIDENT - 2015-12-11 08:04:24  ABINGTON   \n",
       "\n",
       "                           addr  e   reason               specifics  Hour  \\\n",
       "93       SHELMIRE ST & CEDAR RD  1  Traffic      DISABLED VEHICLE -    21   \n",
       "122     PENN AVE & GARFIELD AVE  1      EMS               DIZZINESS     2   \n",
       "126     THE FAIRWAY  & RYDAL RD  1      EMS   RESPIRATORY EMERGENCY     3   \n",
       "162     THE FAIRWAY  & RYDAL RD  1      EMS            HEMORRHAGING     7   \n",
       "167  SUSQUEHANNA RD & EASTON RD  1  Traffic      VEHICLE ACCIDENT -     8   \n",
       "\n",
       "     Month Day of Week  \n",
       "93      12         Thu  \n",
       "122     12         Fri  \n",
       "126     12         Fri  \n",
       "162     12         Fri  \n",
       "167     12         Fri  "
      ]
     },
     "execution_count": 17,
     "metadata": {},
     "output_type": "execute_result"
    }
   ],
   "source": [
    "# next, I wanted to be more specific in regards to location so I opted to pick a town and Abington sounded cool so yeah!\n",
    "\n",
    "dfabington = df.loc[df['twp'] == 'ABINGTON']\n",
    "dfabington.head()"
   ]
  },
  {
   "cell_type": "code",
   "execution_count": 18,
   "metadata": {},
   "outputs": [
    {
     "data": {
      "text/plain": [
       "<matplotlib.legend.Legend at 0x2925f5cc080>"
      ]
     },
     "execution_count": 18,
     "metadata": {},
     "output_type": "execute_result"
    },
    {
     "data": {
      "image/png": "[encoded data removed]",
      "text/plain": [
       "<Figure size 432x288 with 1 Axes>"
      ]
     },
     "metadata": {},
     "output_type": "display_data"
    }
   ],
   "source": [
    "# we do the same steps in terms of visualizing the different amounts per reason but this time only for Abington\n",
    "# first is a week chart, followed by a year chart\n",
    "sns.countplot(x='Day of Week',data=dfabington,hue='reason',palette='pastel')\n",
    "\n",
    "plt.legend(bbox_to_anchor=(1.05, 0.225), loc=2, borderaxespad=0.)"
   ]
  },
  {
   "cell_type": "code",
   "execution_count": 19,
   "metadata": {},
   "outputs": [
    {
     "data": {
      "text/plain": [
       "<matplotlib.legend.Legend at 0x292545669b0>"
      ]
     },
     "execution_count": 19,
     "metadata": {},
     "output_type": "execute_result"
    },
    {
     "data": {
      "image/png": "[encoded data removed]",
      "text/plain": [
       "<Figure size 432x288 with 1 Axes>"
      ]
     },
     "metadata": {},
     "output_type": "display_data"
    }
   ],
   "source": [
    "sns.countplot(x='Month',data=dfabington,hue='reason',palette='pastel')\n",
    "\n",
    "plt.legend(bbox_to_anchor=(1.05, 0.225), loc=2, borderaxespad=0.)"
   ]
  },
  {
   "cell_type": "code",
   "execution_count": 20,
   "metadata": {},
   "outputs": [
    {
     "data": {
      "text/html": [
       "<div>\n",
       "<style scoped>\n",
       "    .dataframe tbody tr th:only-of-type {\n",
       "        vertical-align: middle;\n",
       "    }\n",
       "\n",
       "    .dataframe tbody tr th {\n",
       "        vertical-align: top;\n",
       "    }\n",
       "\n",
       "    .dataframe thead th {\n",
       "        text-align: right;\n",
       "    }\n",
       "</style>\n",
       "<table border=\"1\" class=\"dataframe\">\n",
       "  <thead>\n",
       "    <tr style=\"text-align: right;\">\n",
       "      <th>Hour</th>\n",
       "      <th>0</th>\n",
       "      <th>1</th>\n",
       "      <th>2</th>\n",
       "      <th>3</th>\n",
       "      <th>4</th>\n",
       "      <th>5</th>\n",
       "      <th>6</th>\n",
       "      <th>7</th>\n",
       "      <th>8</th>\n",
       "      <th>9</th>\n",
       "      <th>...</th>\n",
       "      <th>14</th>\n",
       "      <th>15</th>\n",
       "      <th>16</th>\n",
       "      <th>17</th>\n",
       "      <th>18</th>\n",
       "      <th>19</th>\n",
       "      <th>20</th>\n",
       "      <th>21</th>\n",
       "      <th>22</th>\n",
       "      <th>23</th>\n",
       "    </tr>\n",
       "    <tr>\n",
       "      <th>Day of Week</th>\n",
       "      <th></th>\n",
       "      <th></th>\n",
       "      <th></th>\n",
       "      <th></th>\n",
       "      <th></th>\n",
       "      <th></th>\n",
       "      <th></th>\n",
       "      <th></th>\n",
       "      <th></th>\n",
       "      <th></th>\n",
       "      <th></th>\n",
       "      <th></th>\n",
       "      <th></th>\n",
       "      <th></th>\n",
       "      <th></th>\n",
       "      <th></th>\n",
       "      <th></th>\n",
       "      <th></th>\n",
       "      <th></th>\n",
       "      <th></th>\n",
       "      <th></th>\n",
       "    </tr>\n",
       "  </thead>\n",
       "  <tbody>\n",
       "    <tr>\n",
       "      <th>Fri</th>\n",
       "      <td>65</td>\n",
       "      <td>43</td>\n",
       "      <td>53</td>\n",
       "      <td>49</td>\n",
       "      <td>48</td>\n",
       "      <td>66</td>\n",
       "      <td>77</td>\n",
       "      <td>150</td>\n",
       "      <td>225</td>\n",
       "      <td>214</td>\n",
       "      <td>...</td>\n",
       "      <td>294</td>\n",
       "      <td>306</td>\n",
       "      <td>310</td>\n",
       "      <td>287</td>\n",
       "      <td>251</td>\n",
       "      <td>237</td>\n",
       "      <td>145</td>\n",
       "      <td>160</td>\n",
       "      <td>119</td>\n",
       "      <td>100</td>\n",
       "    </tr>\n",
       "    <tr>\n",
       "      <th>Mon</th>\n",
       "      <td>59</td>\n",
       "      <td>46</td>\n",
       "      <td>45</td>\n",
       "      <td>58</td>\n",
       "      <td>58</td>\n",
       "      <td>64</td>\n",
       "      <td>95</td>\n",
       "      <td>146</td>\n",
       "      <td>207</td>\n",
       "      <td>203</td>\n",
       "      <td>...</td>\n",
       "      <td>221</td>\n",
       "      <td>251</td>\n",
       "      <td>236</td>\n",
       "      <td>264</td>\n",
       "      <td>226</td>\n",
       "      <td>193</td>\n",
       "      <td>143</td>\n",
       "      <td>124</td>\n",
       "      <td>105</td>\n",
       "      <td>76</td>\n",
       "    </tr>\n",
       "    <tr>\n",
       "      <th>Sat</th>\n",
       "      <td>75</td>\n",
       "      <td>67</td>\n",
       "      <td>55</td>\n",
       "      <td>49</td>\n",
       "      <td>59</td>\n",
       "      <td>52</td>\n",
       "      <td>70</td>\n",
       "      <td>87</td>\n",
       "      <td>117</td>\n",
       "      <td>177</td>\n",
       "      <td>...</td>\n",
       "      <td>196</td>\n",
       "      <td>219</td>\n",
       "      <td>220</td>\n",
       "      <td>220</td>\n",
       "      <td>209</td>\n",
       "      <td>190</td>\n",
       "      <td>154</td>\n",
       "      <td>131</td>\n",
       "      <td>102</td>\n",
       "      <td>96</td>\n",
       "    </tr>\n",
       "    <tr>\n",
       "      <th>Sun</th>\n",
       "      <td>70</td>\n",
       "      <td>69</td>\n",
       "      <td>64</td>\n",
       "      <td>44</td>\n",
       "      <td>49</td>\n",
       "      <td>47</td>\n",
       "      <td>59</td>\n",
       "      <td>119</td>\n",
       "      <td>121</td>\n",
       "      <td>154</td>\n",
       "      <td>...</td>\n",
       "      <td>190</td>\n",
       "      <td>168</td>\n",
       "      <td>183</td>\n",
       "      <td>162</td>\n",
       "      <td>171</td>\n",
       "      <td>173</td>\n",
       "      <td>115</td>\n",
       "      <td>97</td>\n",
       "      <td>83</td>\n",
       "      <td>82</td>\n",
       "    </tr>\n",
       "    <tr>\n",
       "      <th>Thu</th>\n",
       "      <td>57</td>\n",
       "      <td>54</td>\n",
       "      <td>49</td>\n",
       "      <td>47</td>\n",
       "      <td>39</td>\n",
       "      <td>70</td>\n",
       "      <td>72</td>\n",
       "      <td>152</td>\n",
       "      <td>201</td>\n",
       "      <td>234</td>\n",
       "      <td>...</td>\n",
       "      <td>245</td>\n",
       "      <td>275</td>\n",
       "      <td>227</td>\n",
       "      <td>239</td>\n",
       "      <td>225</td>\n",
       "      <td>151</td>\n",
       "      <td>154</td>\n",
       "      <td>137</td>\n",
       "      <td>77</td>\n",
       "      <td>75</td>\n",
       "    </tr>\n",
       "  </tbody>\n",
       "</table>\n",
       "<p>5 rows × 24 columns</p>\n",
       "</div>"
      ],
      "text/plain": [
       "Hour         0   1   2   3   4   5   6    7    8    9  ...    14   15   16  \\\n",
       "Day of Week                                            ...                   \n",
       "Fri          65  43  53  49  48  66  77  150  225  214 ...   294  306  310   \n",
       "Mon          59  46  45  58  58  64  95  146  207  203 ...   221  251  236   \n",
       "Sat          75  67  55  49  59  52  70   87  117  177 ...   196  219  220   \n",
       "Sun          70  69  64  44  49  47  59  119  121  154 ...   190  168  183   \n",
       "Thu          57  54  49  47  39  70  72  152  201  234 ...   245  275  227   \n",
       "\n",
       "Hour          17   18   19   20   21   22   23  \n",
       "Day of Week                                     \n",
       "Fri          287  251  237  145  160  119  100  \n",
       "Mon          264  226  193  143  124  105   76  \n",
       "Sat          220  209  190  154  131  102   96  \n",
       "Sun          162  171  173  115   97   83   82  \n",
       "Thu          239  225  151  154  137   77   75  \n",
       "\n",
       "[5 rows x 24 columns]"
      ]
     },
     "execution_count": 20,
     "metadata": {},
     "output_type": "execute_result"
    }
   ],
   "source": [
    "# a heat map is another useful visualization tool to see the frequency!\n",
    "\n",
    "dayHourab = dfabington.groupby(by=['Day of Week','Hour']).count()['reason'].unstack()\n",
    "dayHourab.head()"
   ]
  },
  {
   "cell_type": "code",
   "execution_count": 21,
   "metadata": {},
   "outputs": [
    {
     "data": {
      "text/plain": [
       "<matplotlib.axes._subplots.AxesSubplot at 0x292545667b8>"
      ]
     },
     "execution_count": 21,
     "metadata": {},
     "output_type": "execute_result"
    },
    {
     "data": {
      "image/png": "[encoded data removed]",
      "text/plain": [
       "<Figure size 864x432 with 2 Axes>"
      ]
     },
     "metadata": {},
     "output_type": "display_data"
    }
   ],
   "source": [
    "plt.figure(figsize=(12,6))\n",
    "sns.heatmap(dayHourab,cmap='viridis')"
   ]
  },
  {
   "cell_type": "code",
   "execution_count": 22,
   "metadata": {
    "scrolled": true
   },
   "outputs": [
    {
     "data": {
      "text/plain": [
       "<seaborn.matrix.ClusterGrid at 0x292545e00f0>"
      ]
     },
     "execution_count": 22,
     "metadata": {},
     "output_type": "execute_result"
    },
    {
     "data": {
      "image/png": "[encoded data removed]",
      "text/plain": [
       "<Figure size 720x720 with 4 Axes>"
      ]
     },
     "metadata": {},
     "output_type": "display_data"
    }
   ],
   "source": [
    "sns.clustermap(dayHourab,cmap='viridis')"
   ]
  },
  {
   "cell_type": "markdown",
   "metadata": {},
   "source": [
    "This concludes the brief analysis of 911 calls in Montgomery County, PA. More specifically, in the town of Abington. There is more to be learned with more analysis."
   ]
  },
  {
   "cell_type": "markdown",
   "metadata": {},
   "source": [
    "The next step would be visualizing this data in Tableau.\n",
    "\n",
    "# [Tableau Visualization](https://public.tableau.com/profile/jediah.j.pimentel#!/vizhome/911CallAbingtonVisualization/Dashboard1)"
   ]
  },
  {
   "cell_type": "markdown",
   "metadata": {},
   "source": [
    "In the above Tableau visualization, I will only be looking strictly at Abington. But first, we save our new dataframe to a new csv file using the built in pandas function. "
   ]
  },
  {
   "cell_type": "code",
   "execution_count": 23,
   "metadata": {},
   "outputs": [],
   "source": [
    "dfabington.to_csv('data/911-Update-Abington.csv')"
   ]
  },
  {
   "cell_type": "markdown",
   "metadata": {},
   "source": [
    "This dashboard allows us to select a specific and see the amounts per day / month for each specific. \n",
    "\n",
    "## Thank you!"
   ]
  }
 ],
 "metadata": {
  "kernelspec": {
   "display_name": "Python 3",
   "language": "python",
   "name": "python3"
  },
  "language_info": {
   "codemirror_mode": {
    "name": "ipython",
    "version": 3
   },
   "file_extension": ".py",
   "mimetype": "text/x-python",
   "name": "python",
   "nbconvert_exporter": "python",
   "pygments_lexer": "ipython3",
   "version": "3.7.0"
  }
 },
 "nbformat": 4,
 "nbformat_minor": 2
}
